{
 "cells": [
  {
   "cell_type": "code",
   "execution_count": 1,
   "metadata": {},
   "outputs": [],
   "source": [
    "import numpy as np\n",
    "import scipy.stats as stats\n"
   ]
  },
  {
   "cell_type": "code",
   "execution_count": 2,
   "metadata": {},
   "outputs": [],
   "source": [
    "N = 10  # Kapasitas stok maksimum\n",
    "harga_jual = 5  # Harga jual per unit\n",
    "biaya_pemesanan = 2  # Biaya pemesanan per unit\n",
    "biaya_produksi = 3  # Biaya produksi per unit\n",
    "penalti_kehabisan = 4  # Penalti kehilangan penjualan per unit\n",
    "rata_rata_permintaan = 5  # Rata-rata permintaan per hari (untuk distribusi Poisson)\n"
   ]
  },
  {
   "cell_type": "code",
   "execution_count": 3,
   "metadata": {},
   "outputs": [],
   "source": [
    "# Distribusi Poisson untuk permintaan harian\n",
    "def distribusi_permintaan(lamda):\n",
    "    return stats.poisson.pmf(np.arange(N+1), lamda)\n",
    "\n"
   ]
  },
  {
   "cell_type": "code",
   "execution_count": 4,
   "metadata": {},
   "outputs": [],
   "source": [
    "def reward(stok_awal, aksi, permintaan):\n",
    "    stok_akhir = max(0, stok_awal + aksi - permintaan)\n",
    "    penjualan = min(stok_awal + aksi, permintaan)  # Unit yang terjual\n",
    "    biaya = aksi * biaya_pemesanan  # Biaya pemesanan\n",
    "    penalti = max(0, permintaan - stok_akhir) * penalti_kehabisan  # Penalti jika kehabisan stok\n",
    "    return (penjualan * (harga_jual - biaya_produksi)) - biaya - penalti\n"
   ]
  },
  {
   "cell_type": "code",
   "execution_count": 8,
   "metadata": {},
   "outputs": [
    {
     "name": "stdout",
     "output_type": "stream",
     "text": [
      "Kebijakan Optimal (Jumlah Stok yang Dipesan per Status):\n",
      "Stok 0: Pesan 10 unit\n",
      "Stok 1: Pesan 9 unit\n",
      "Stok 2: Pesan 8 unit\n",
      "Stok 3: Pesan 7 unit\n",
      "Stok 4: Pesan 6 unit\n",
      "Stok 5: Pesan 5 unit\n",
      "Stok 6: Pesan 4 unit\n",
      "Stok 7: Pesan 3 unit\n",
      "Stok 8: Pesan 2 unit\n",
      "Stok 9: Pesan 1 unit\n",
      "Stok 10: Pesan 0 unit\n",
      "\n",
      "Nilai untuk Setiap Status Stok:\n",
      "Stok 0: Nilai = -66.07198398704296\n",
      "Stok 1: Nilai = -64.09937588177922\n",
      "Stok 2: Nilai = -62.12676912383942\n",
      "Stok 3: Nilai = -60.15416449315267\n",
      "Stok 4: Nilai = -58.18156265701334\n",
      "Stok 5: Nilai = -56.20896364013864\n",
      "Stok 6: Nilai = -54.23636633212119\n",
      "Stok 7: Nilai = -52.263768581557095\n",
      "Stok 8: Nilai = -50.291168147398054\n",
      "Stok 9: Nilai = -48.31856394399277\n",
      "Stok 10: Nilai = -46.3459565481825\n"
     ]
    }
   ],
   "source": [
    "# Definisi fungsi value_iteration\n",
    "def value_iteration(gamma=0.9, theta=0.0001):\n",
    "    V = np.zeros(N+1)  # Nilai inisial untuk setiap status stok\n",
    "    policy = np.zeros(N+1, dtype=int)  # Kebijakan inisial (jumlah stok yang dipesan untuk setiap status)\n",
    "    \n",
    "    while True:\n",
    "        delta = 0\n",
    "        for s in range(N+1):\n",
    "            v = V[s]\n",
    "            action_values = []\n",
    "            for a in range(N+1 - s):\n",
    "                expected_value = 0\n",
    "                for demand in range(N+1):\n",
    "                    prob = distribusi_permintaan(rata_rata_permintaan)[demand]\n",
    "                    next_state = max(0, s + a - demand)\n",
    "                    reward_value = reward(s, a, demand)\n",
    "                    expected_value += prob * (reward_value + gamma * V[next_state])\n",
    "                action_values.append(expected_value)\n",
    "            V[s] = max(action_values)\n",
    "            policy[s] = np.argmax(action_values)\n",
    "            delta = max(delta, abs(v - V[s]))\n",
    "        if delta < theta:\n",
    "            break\n",
    "    return V, policy\n",
    "\n",
    "# Menjalankan Value Iteration\n",
    "V, policy = value_iteration()\n",
    "\n",
    "# Menampilkan kebijakan optimal (jumlah stok yang perlu dipesan untuk setiap status)\n",
    "print(\"Kebijakan Optimal (Jumlah Stok yang Dipesan per Status):\")\n",
    "for i in range(N+1):\n",
    "    print(f\"Stok {i}: Pesan {policy[i]} unit\")\n",
    "\n",
    "# Menampilkan nilai (value) untuk setiap status stok\n",
    "print(\"\\nNilai untuk Setiap Status Stok:\")\n",
    "for i in range(N+1):\n",
    "    print(f\"Stok {i}: Nilai = {V[i]}\")"
   ]
  }
 ],
 "metadata": {
  "kernelspec": {
   "display_name": "venv",
   "language": "python",
   "name": "python3"
  },
  "language_info": {
   "codemirror_mode": {
    "name": "ipython",
    "version": 3
   },
   "file_extension": ".py",
   "mimetype": "text/x-python",
   "name": "python",
   "nbconvert_exporter": "python",
   "pygments_lexer": "ipython3",
   "version": "3.13.1"
  }
 },
 "nbformat": 4,
 "nbformat_minor": 2
}
